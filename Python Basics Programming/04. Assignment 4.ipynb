{
 "cells": [
  {
   "cell_type": "code",
   "execution_count": 1,
   "id": "106eb998",
   "metadata": {},
   "outputs": [],
   "source": [
    "# 1. Write a Python Program to Find the Factorial of a Number?"
   ]
  },
  {
   "cell_type": "code",
   "execution_count": 37,
   "id": "3f76bc67",
   "metadata": {},
   "outputs": [],
   "source": [
    "def fact(n):\n",
    "    d=1\n",
    "    for i in range(1,n+1):\n",
    "        d=d*i\n",
    "    return d"
   ]
  },
  {
   "cell_type": "code",
   "execution_count": 2,
   "id": "cf4653a3",
   "metadata": {},
   "outputs": [
    {
     "data": {
      "text/plain": [
       "120"
      ]
     },
     "execution_count": 2,
     "metadata": {},
     "output_type": "execute_result"
    }
   ],
   "source": [
    "fact(5)"
   ]
  },
  {
   "cell_type": "code",
   "execution_count": 4,
   "id": "9c5140b5",
   "metadata": {},
   "outputs": [
    {
     "data": {
      "text/plain": [
       "5"
      ]
     },
     "execution_count": 4,
     "metadata": {},
     "output_type": "execute_result"
    }
   ],
   "source": [
    "fac(5)dd"
   ]
  },
  {
   "cell_type": "code",
   "execution_count": 19,
   "id": "d8495fa4",
   "metadata": {},
   "outputs": [],
   "source": [
    "# 2. Write a Python Program to Display the multiplication Table?"
   ]
  },
  {
   "cell_type": "code",
   "execution_count": 47,
   "id": "a17303ef",
   "metadata": {},
   "outputs": [],
   "source": [
    "def mult(n):\n",
    "    for i in range(1,11):\n",
    "        print(n,\"*\",i,\"=\",i*n)"
   ]
  },
  {
   "cell_type": "code",
   "execution_count": 49,
   "id": "51821a98",
   "metadata": {},
   "outputs": [
    {
     "name": "stdout",
     "output_type": "stream",
     "text": [
      "12 * 1 = 12\n",
      "12 * 2 = 24\n",
      "12 * 3 = 36\n",
      "12 * 4 = 48\n",
      "12 * 5 = 60\n",
      "12 * 6 = 72\n",
      "12 * 7 = 84\n",
      "12 * 8 = 96\n",
      "12 * 9 = 108\n",
      "12 * 10 = 120\n"
     ]
    }
   ],
   "source": [
    "mult(12)"
   ]
  },
  {
   "cell_type": "code",
   "execution_count": 50,
   "id": "8d035a7d",
   "metadata": {},
   "outputs": [],
   "source": [
    "# 3. Write a Python Program to Print the Fibonacci sequence?"
   ]
  },
  {
   "cell_type": "code",
   "execution_count": 81,
   "id": "701530f3",
   "metadata": {},
   "outputs": [],
   "source": [
    "def fib(n):\n",
    "    a=0\n",
    "    b=1\n",
    "    print(a)\n",
    "    print(b)\n",
    "    for i in range(2,n):\n",
    "        c=a+b\n",
    "        a=b   \n",
    "        b=c\n",
    "        print(c)   "
   ]
  },
  {
   "cell_type": "code",
   "execution_count": 82,
   "id": "a004e2ae",
   "metadata": {},
   "outputs": [
    {
     "name": "stdout",
     "output_type": "stream",
     "text": [
      "0\n",
      "1\n",
      "1\n",
      "2\n",
      "3\n",
      "5\n"
     ]
    }
   ],
   "source": [
    "fib(6)"
   ]
  },
  {
   "cell_type": "code",
   "execution_count": 83,
   "id": "7ad719a8",
   "metadata": {},
   "outputs": [],
   "source": [
    "# 4. Write a Python Program to Check Armstrong Number?"
   ]
  },
  {
   "cell_type": "code",
   "execution_count": 25,
   "id": "93cac1d1",
   "metadata": {},
   "outputs": [
    {
     "name": "stdout",
     "output_type": "stream",
     "text": [
      "Enter an armstrong number153\n",
      "153  is an armstrong number\n"
     ]
    }
   ],
   "source": [
    "a=int(input(\"Enter an armstrong number\"))\n",
    "x=int(a/100)\n",
    "y=int((a-x*100)/10)\n",
    "z=int(a-y*10-x*100)\n",
    "if a == pow(x,3)+pow(y,3)+pow(z,3):\n",
    "    print(a,\" is an armstrong number\")\n",
    "else:\n",
    "    print(\"Not an armstrong num\")"
   ]
  },
  {
   "cell_type": "code",
   "execution_count": 26,
   "id": "77f24c1a",
   "metadata": {},
   "outputs": [],
   "source": [
    "#5. Write a Python Program to Find the Sum of Natural Numbers?"
   ]
  },
  {
   "cell_type": "code",
   "execution_count": 38,
   "id": "72b81075",
   "metadata": {},
   "outputs": [],
   "source": [
    "\n",
    "def nat(n):\n",
    "    s=n*(n+1)/2\n",
    "    return s\n",
    "    \n"
   ]
  },
  {
   "cell_type": "code",
   "execution_count": 39,
   "id": "53f45a4f",
   "metadata": {},
   "outputs": [
    {
     "data": {
      "text/plain": [
       "55.0"
      ]
     },
     "execution_count": 39,
     "metadata": {},
     "output_type": "execute_result"
    }
   ],
   "source": [
    "nat(10)"
   ]
  },
  {
   "cell_type": "code",
   "execution_count": null,
   "id": "d2213a92",
   "metadata": {},
   "outputs": [],
   "source": []
  }
 ],
 "metadata": {
  "kernelspec": {
   "display_name": "Python 3 (ipykernel)",
   "language": "python",
   "name": "python3"
  },
  "language_info": {
   "codemirror_mode": {
    "name": "ipython",
    "version": 3
   },
   "file_extension": ".py",
   "mimetype": "text/x-python",
   "name": "python",
   "nbconvert_exporter": "python",
   "pygments_lexer": "ipython3",
   "version": "3.9.12"
  }
 },
 "nbformat": 4,
 "nbformat_minor": 5
}
