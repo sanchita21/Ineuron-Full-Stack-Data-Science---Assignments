{
 "cells": [
  {
   "cell_type": "markdown",
   "id": "b8edd20d",
   "metadata": {},
   "source": [
    "1. Write a Python Program to Display Fibonacci Sequence Using Recursion?"
   ]
  },
  {
   "cell_type": "code",
   "execution_count": 13,
   "id": "9177fda0",
   "metadata": {},
   "outputs": [],
   "source": [
    "def fibonacci(a):\n",
    "    if a<2:\n",
    "        return 1\n",
    "    else:\n",
    "        return fibonacci(a-1) + fibonacci(a-2)"
   ]
  },
  {
   "cell_type": "code",
   "execution_count": 15,
   "id": "b27e8866",
   "metadata": {},
   "outputs": [
    {
     "data": {
      "text/plain": [
       "55"
      ]
     },
     "execution_count": 15,
     "metadata": {},
     "output_type": "execute_result"
    }
   ],
   "source": [
    "fibonacci(9)"
   ]
  },
  {
   "cell_type": "markdown",
   "id": "a42337a9",
   "metadata": {},
   "source": [
    "2. Write a Python Program to Find Factorial of Number Using Recursion?"
   ]
  },
  {
   "cell_type": "code",
   "execution_count": 16,
   "id": "d322cde1",
   "metadata": {},
   "outputs": [],
   "source": [
    "def factorial(a):\n",
    "    if a<1:\n",
    "        return 1\n",
    "    else:\n",
    "        return a*factorial(a-1)"
   ]
  },
  {
   "cell_type": "code",
   "execution_count": 18,
   "id": "3cd57978",
   "metadata": {},
   "outputs": [
    {
     "data": {
      "text/plain": [
       "120"
      ]
     },
     "execution_count": 18,
     "metadata": {},
     "output_type": "execute_result"
    }
   ],
   "source": [
    "factorial(5)"
   ]
  },
  {
   "cell_type": "markdown",
   "id": "688613f3",
   "metadata": {},
   "source": [
    "3. Write a Python Program to calculate your Body Mass Index?"
   ]
  },
  {
   "cell_type": "code",
   "execution_count": 29,
   "id": "54e8b6b5",
   "metadata": {},
   "outputs": [
    {
     "name": "stdout",
     "output_type": "stream",
     "text": [
      "Enter the weight in kg65\n",
      "enter the height in cm165\n"
     ]
    },
    {
     "data": {
      "text/plain": [
       "214.5"
      ]
     },
     "execution_count": 29,
     "metadata": {},
     "output_type": "execute_result"
    }
   ],
   "source": [
    "def bmi_cal(a,b):\n",
    "    bmi=a*((b/100)*2)\n",
    "    return bmi\n",
    "    \n",
    "a=float(input(\"Enter the weight in kg\"))\n",
    "b=float(input('enter the height in cm'))\n",
    "\n",
    "bmi_cal(a,b)"
   ]
  },
  {
   "cell_type": "markdown",
   "id": "3a8e8d33",
   "metadata": {},
   "source": [
    "4. Write a Python Program to calculate the natural logarithm of any number?"
   ]
  },
  {
   "cell_type": "code",
   "execution_count": 30,
   "id": "d7f46aae",
   "metadata": {},
   "outputs": [],
   "source": [
    "import math\n",
    "\n",
    "def log_num(a):\n",
    "    return math.log(a)"
   ]
  },
  {
   "cell_type": "code",
   "execution_count": 32,
   "id": "95f855ae",
   "metadata": {},
   "outputs": [
    {
     "data": {
      "text/plain": [
       "4.607168188650764"
      ]
     },
     "execution_count": 32,
     "metadata": {},
     "output_type": "execute_result"
    }
   ],
   "source": [
    "log_num(100.2)"
   ]
  },
  {
   "cell_type": "markdown",
   "id": "a70b9ecc",
   "metadata": {},
   "source": [
    "5. Write a Python Program for cube sum of first n natural numbers?"
   ]
  },
  {
   "cell_type": "code",
   "execution_count": 35,
   "id": "2f4dae46",
   "metadata": {},
   "outputs": [],
   "source": [
    "def cube_sum(n):\n",
    "    x = ((n * (n + 1)  / 2))*2\n",
    "    return x    "
   ]
  },
  {
   "cell_type": "code",
   "execution_count": 36,
   "id": "6c9eb16c",
   "metadata": {},
   "outputs": [
    {
     "data": {
      "text/plain": [
       "110.0"
      ]
     },
     "execution_count": 36,
     "metadata": {},
     "output_type": "execute_result"
    }
   ],
   "source": [
    "cube_sum(10)"
   ]
  }
 ],
 "metadata": {
  "kernelspec": {
   "display_name": "Python 3 (ipykernel)",
   "language": "python",
   "name": "python3"
  },
  "language_info": {
   "codemirror_mode": {
    "name": "ipython",
    "version": 3
   },
   "file_extension": ".py",
   "mimetype": "text/x-python",
   "name": "python",
   "nbconvert_exporter": "python",
   "pygments_lexer": "ipython3",
   "version": "3.9.12"
  }
 },
 "nbformat": 4,
 "nbformat_minor": 5
}
