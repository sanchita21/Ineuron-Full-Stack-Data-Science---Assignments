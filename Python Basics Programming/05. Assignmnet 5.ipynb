{
 "cells": [
  {
   "cell_type": "markdown",
   "id": "79c6e504",
   "metadata": {},
   "source": [
    "1. Write a Python Program to Find LCM?"
   ]
  },
  {
   "cell_type": "code",
   "execution_count": 20,
   "id": "7c008cfd",
   "metadata": {},
   "outputs": [],
   "source": [
    "def gcd(a,b):\n",
    "    if a>b:\n",
    "        small=b\n",
    "    else:\n",
    "        small=a\n",
    "    for i in range(1,small+1):\n",
    "        if a%i==0 and b%i==0:\n",
    "            hcf=i\n",
    "    LCM=(a*b)/hcf\n",
    "    print(abs(LCM))"
   ]
  },
  {
   "cell_type": "code",
   "execution_count": 21,
   "id": "6d1a5890",
   "metadata": {},
   "outputs": [
    {
     "name": "stdout",
     "output_type": "stream",
     "text": [
      "36.0\n"
     ]
    }
   ],
   "source": [
    "gcd(12,18)"
   ]
  },
  {
   "cell_type": "markdown",
   "id": "7d6ae181",
   "metadata": {},
   "source": [
    "2. Write a Python Program to Find HCF?"
   ]
  },
  {
   "cell_type": "code",
   "execution_count": 30,
   "id": "2d0764f6",
   "metadata": {},
   "outputs": [],
   "source": [
    "def hcf(a,b):\n",
    "    if a>b:\n",
    "        small=b\n",
    "    else:\n",
    "        small=a\n",
    "    for i in range(1,small+1):\n",
    "        if a%i==0 and b%i==0:\n",
    "            gcd=i\n",
    "    return gcd\n"
   ]
  },
  {
   "cell_type": "code",
   "execution_count": 31,
   "id": "8662513d",
   "metadata": {},
   "outputs": [
    {
     "data": {
      "text/plain": [
       "6"
      ]
     },
     "execution_count": 31,
     "metadata": {},
     "output_type": "execute_result"
    }
   ],
   "source": [
    "hcf(12,18)"
   ]
  },
  {
   "cell_type": "markdown",
   "id": "d3ea5357",
   "metadata": {},
   "source": [
    "3. Write a Python Program to Convert Decimal to Binary, Octal and Hexadecimal?"
   ]
  },
  {
   "cell_type": "code",
   "execution_count": 71,
   "id": "d51a1ab2",
   "metadata": {},
   "outputs": [
    {
     "name": "stdout",
     "output_type": "stream",
     "text": [
      "[0, 0, 0, 0, 0, 0, 0, 0, 0, 0, 0, 1, 0, 0, 0, 0]\n"
     ]
    }
   ],
   "source": [
    "def binary(a):\n",
    "    store = []\n",
    "    for i in range(a):\n",
    "        k = a % 2   \n",
    "        store.append(k)\n",
    "        a = a // 2\n",
    "    store.reverse()  # Reverse the list in-place\n",
    "    print(store)\n",
    "\n",
    "binary(16)"
   ]
  },
  {
   "cell_type": "code",
   "execution_count": 83,
   "id": "9cf5705e",
   "metadata": {},
   "outputs": [],
   "source": [
    "def Octal(b):\n",
    "    store=[]\n",
    "    for i in range(b):\n",
    "        k=b%8\n",
    "        store.append(k)\n",
    "        b=b//8\n",
    "    store.reverse()\n",
    "    print(store)"
   ]
  },
  {
   "cell_type": "code",
   "execution_count": 84,
   "id": "14e423d6",
   "metadata": {},
   "outputs": [
    {
     "name": "stdout",
     "output_type": "stream",
     "text": [
      "[0, 0, 0, 0, 0, 0, 0, 0, 0, 0, 0, 0, 0, 0, 0, 0, 0, 0, 0, 0, 0, 0, 0, 0, 0, 0, 0, 0, 0, 0, 0, 0, 0, 0, 0, 0, 0, 0, 0, 0, 0, 0, 0, 0, 0, 0, 0, 0, 0, 0, 0, 0, 0, 0, 0, 0, 0, 0, 0, 0, 0, 0, 0, 0, 0, 0, 0, 0, 0, 0, 0, 0, 0, 0, 0, 0, 0, 0, 0, 0, 0, 0, 0, 0, 0, 0, 0, 0, 0, 0, 0, 0, 0, 0, 0, 0, 0, 0, 0, 0, 0, 0, 0, 0, 0, 0, 0, 0, 0, 0, 0, 0, 0, 0, 0, 0, 0, 0, 0, 0, 0, 0, 0, 0, 1, 7, 7]\n"
     ]
    }
   ],
   "source": [
    "Octal(127)"
   ]
  },
  {
   "cell_type": "code",
   "execution_count": 85,
   "id": "8c18a7d9",
   "metadata": {},
   "outputs": [],
   "source": [
    "def hexagonal(a):\n",
    "    b=hex(a)\n",
    "    print(b)"
   ]
  },
  {
   "cell_type": "code",
   "execution_count": 86,
   "id": "ad534740",
   "metadata": {},
   "outputs": [
    {
     "name": "stdout",
     "output_type": "stream",
     "text": [
      "0x100\n"
     ]
    }
   ],
   "source": [
    "hexagonal(256)"
   ]
  },
  {
   "cell_type": "markdown",
   "id": "85c612b0",
   "metadata": {},
   "source": [
    "4. Write a Python Program To Find ASCII value of a character?"
   ]
  },
  {
   "cell_type": "code",
   "execution_count": 90,
   "id": "6de82920",
   "metadata": {},
   "outputs": [],
   "source": [
    "def asc(a):\n",
    "    p=ord(str(a))\n",
    "    print(p)"
   ]
  },
  {
   "cell_type": "code",
   "execution_count": 92,
   "id": "6c37aa3a",
   "metadata": {},
   "outputs": [
    {
     "name": "stdout",
     "output_type": "stream",
     "text": [
      "99\n"
     ]
    }
   ],
   "source": [
    "asc('c')"
   ]
  },
  {
   "cell_type": "markdown",
   "id": "775cf0c0",
   "metadata": {},
   "source": [
    "5. Write a Python Program to Make a Simple Calculator with 4 basic mathematical operations?"
   ]
  },
  {
   "cell_type": "code",
   "execution_count": 94,
   "id": "0ed837ae",
   "metadata": {},
   "outputs": [],
   "source": [
    "def add(a,b):\n",
    "    return a+b\n",
    "def substract(a,b):\n",
    "    return a-b\n",
    "def divide(a,b):\n",
    "    return a//b\n",
    "def multiply(a,b):\n",
    "    return a*b\n",
    "\n"
   ]
  },
  {
   "cell_type": "code",
   "execution_count": 95,
   "id": "b947f079",
   "metadata": {},
   "outputs": [
    {
     "data": {
      "text/plain": [
       "11"
      ]
     },
     "execution_count": 95,
     "metadata": {},
     "output_type": "execute_result"
    }
   ],
   "source": [
    "add(5,6)"
   ]
  },
  {
   "cell_type": "code",
   "execution_count": 97,
   "id": "480e16a3",
   "metadata": {},
   "outputs": [
    {
     "data": {
      "text/plain": [
       "4"
      ]
     },
     "execution_count": 97,
     "metadata": {},
     "output_type": "execute_result"
    }
   ],
   "source": [
    "substract(12,8)"
   ]
  },
  {
   "cell_type": "code",
   "execution_count": 99,
   "id": "4051ab2b",
   "metadata": {},
   "outputs": [
    {
     "data": {
      "text/plain": [
       "2"
      ]
     },
     "execution_count": 99,
     "metadata": {},
     "output_type": "execute_result"
    }
   ],
   "source": [
    "divide(10,5)"
   ]
  },
  {
   "cell_type": "code",
   "execution_count": 100,
   "id": "f461f18f",
   "metadata": {},
   "outputs": [
    {
     "data": {
      "text/plain": [
       "70"
      ]
     },
     "execution_count": 100,
     "metadata": {},
     "output_type": "execute_result"
    }
   ],
   "source": [
    "multiply(10,7)"
   ]
  },
  {
   "cell_type": "code",
   "execution_count": null,
   "id": "df547886",
   "metadata": {},
   "outputs": [],
   "source": []
  }
 ],
 "metadata": {
  "kernelspec": {
   "display_name": "Python 3 (ipykernel)",
   "language": "python",
   "name": "python3"
  },
  "language_info": {
   "codemirror_mode": {
    "name": "ipython",
    "version": 3
   },
   "file_extension": ".py",
   "mimetype": "text/x-python",
   "name": "python",
   "nbconvert_exporter": "python",
   "pygments_lexer": "ipython3",
   "version": "3.9.12"
  }
 },
 "nbformat": 4,
 "nbformat_minor": 5
}
