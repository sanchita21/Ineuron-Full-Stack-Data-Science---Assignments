{
 "cells": [
  {
   "cell_type": "markdown",
   "id": "a954b172",
   "metadata": {},
   "source": [
    "###### 1. Set the variable test1 to the string 'This is a test of the emergency text system,' and save test1 to a file named test.txt."
   ]
  },
  {
   "cell_type": "code",
   "execution_count": 20,
   "id": "8027966e",
   "metadata": {},
   "outputs": [],
   "source": [
    "test1='This is a test of the emergency text system'"
   ]
  },
  {
   "cell_type": "code",
   "execution_count": 21,
   "id": "b0293230",
   "metadata": {},
   "outputs": [],
   "source": [
    "with open('test.txt', 'w') as f:\n",
    "    f.write(test1)\n",
    "    f.close()\n",
    "    "
   ]
  },
  {
   "cell_type": "code",
   "execution_count": 22,
   "id": "b8b5674c",
   "metadata": {},
   "outputs": [
    {
     "name": "stdout",
     "output_type": "stream",
     "text": [
      "This is a test of the emergency text system\n"
     ]
    }
   ],
   "source": [
    "!type readme.txt"
   ]
  },
  {
   "cell_type": "markdown",
   "id": "0dfe108f",
   "metadata": {},
   "source": [
    "###### 2. Read the contents of the file test.txt into the variable test2. Is there a difference between test 1 and test 2?"
   ]
  },
  {
   "cell_type": "code",
   "execution_count": 23,
   "id": "716a35af",
   "metadata": {},
   "outputs": [
    {
     "name": "stdout",
     "output_type": "stream",
     "text": [
      "This is a test of the emergency text system\n",
      "True\n"
     ]
    }
   ],
   "source": [
    "with open('test.txt','r') as file:\n",
    "    test2 = file.read()\n",
    "    \n",
    "print(test2)   \n",
    "print(test1 == test2)"
   ]
  },
  {
   "cell_type": "markdown",
   "id": "fbf59808",
   "metadata": {},
   "source": [
    "###### 3. Create a CSV file called books.csv by using these lines:\n"
   ]
  },
  {
   "cell_type": "markdown",
   "id": "3f1dcec5",
   "metadata": {},
   "source": [
    "`title,author,year\n",
    "The Weirdstone of Brisingamen,Alan Garner,1960\n",
    "Perdido Street Station,China Miéville,2000\n",
    "Thud!,Terry Pratchett,2005\n",
    "The Spellman Files,Lisa Lutz,2007\n",
    "Small Gods,Terry Pratchett,1992`\n"
   ]
  },
  {
   "cell_type": "code",
   "execution_count": 24,
   "id": "726cee58",
   "metadata": {},
   "outputs": [],
   "source": [
    "data='''title,author,year\n",
    "The Weirdstone of Brisingamen,Alan Garner,1960\n",
    "Perdido Street Station,China Miéville,2000\n",
    "Thud!,Terry Pratchett,2005\n",
    "The Spellman Files,Lisa Lutz,2007\n",
    "Small Gods,Terry Pratchett,1992'''"
   ]
  },
  {
   "cell_type": "code",
   "execution_count": 25,
   "id": "e27fcb5a",
   "metadata": {},
   "outputs": [
    {
     "data": {
      "text/plain": [
       "'title,author,year\\nThe Weirdstone of Brisingamen,Alan Garner,1960\\nPerdido Street Station,China Miéville,2000\\nThud!,Terry Pratchett,2005\\nThe Spellman Files,Lisa Lutz,2007\\nSmall Gods,Terry Pratchett,1992'"
      ]
     },
     "execution_count": 25,
     "metadata": {},
     "output_type": "execute_result"
    }
   ],
   "source": [
    "data"
   ]
  },
  {
   "cell_type": "code",
   "execution_count": 26,
   "id": "51d7b33b",
   "metadata": {},
   "outputs": [],
   "source": [
    "with open('books.csv','w') as file:\n",
    "    file.write(data)"
   ]
  },
  {
   "cell_type": "code",
   "execution_count": 27,
   "id": "0a32b298",
   "metadata": {},
   "outputs": [
    {
     "name": "stdout",
     "output_type": "stream",
     "text": [
      "title,author,year\n",
      "The Weirdstone of Brisingamen,Alan Garner,1960\n",
      "Perdido Street Station,China Miéville,2000\n",
      "Thud!,Terry Pratchett,2005\n",
      "The Spellman Files,Lisa Lutz,2007\n",
      "Small Gods,Terry Pratchett,1992\n"
     ]
    }
   ],
   "source": [
    "!type books.csv"
   ]
  },
  {
   "cell_type": "markdown",
   "id": "a14ec91d",
   "metadata": {},
   "source": [
    "###### 4. Use the sqlite3 module to create a SQLite database called books.db, and a table called books with these fields: title (text), author (text), and year (integer)."
   ]
  },
  {
   "cell_type": "code",
   "execution_count": 28,
   "id": "513ac363",
   "metadata": {},
   "outputs": [],
   "source": [
    "import sqlite3\n",
    "\n",
    "conn=sqlite3.connect('books.db')\n",
    "c=conn.cursor()"
   ]
  },
  {
   "cell_type": "code",
   "execution_count": 31,
   "id": "c49aeb58",
   "metadata": {},
   "outputs": [
    {
     "data": {
      "text/plain": [
       "<sqlite3.Cursor at 0x25d5fa2e5e0>"
      ]
     },
     "execution_count": 31,
     "metadata": {},
     "output_type": "execute_result"
    }
   ],
   "source": [
    "c.execute('''create table books(title text,author text,year int)''')"
   ]
  },
  {
   "cell_type": "code",
   "execution_count": 30,
   "id": "881bbed3",
   "metadata": {},
   "outputs": [
    {
     "data": {
      "text/plain": [
       "<sqlite3.Cursor at 0x25d5fa2e5e0>"
      ]
     },
     "execution_count": 30,
     "metadata": {},
     "output_type": "execute_result"
    }
   ],
   "source": [
    "c.execute('''drop table books''')"
   ]
  },
  {
   "cell_type": "markdown",
   "id": "d0e397a2",
   "metadata": {},
   "source": [
    "###### 5. Read books.csv and insert its data into the book table."
   ]
  },
  {
   "cell_type": "code",
   "execution_count": 32,
   "id": "53098948",
   "metadata": {},
   "outputs": [],
   "source": [
    "import pandas as pd\n",
    "books=pd.read_csv(r'books.csv',encoding='latin-1')\n"
   ]
  },
  {
   "cell_type": "markdown",
   "id": "2e91452d",
   "metadata": {},
   "source": [
    "\n",
    "encoding is used here as it was because UTF-8 is multibyte and there is no \n",
    "char corresponding to your combination of \\xe9 plus following space."
   ]
  },
  {
   "cell_type": "code",
   "execution_count": 33,
   "id": "ff4b6e8a",
   "metadata": {},
   "outputs": [
    {
     "data": {
      "text/html": [
       "<div>\n",
       "<style scoped>\n",
       "    .dataframe tbody tr th:only-of-type {\n",
       "        vertical-align: middle;\n",
       "    }\n",
       "\n",
       "    .dataframe tbody tr th {\n",
       "        vertical-align: top;\n",
       "    }\n",
       "\n",
       "    .dataframe thead th {\n",
       "        text-align: right;\n",
       "    }\n",
       "</style>\n",
       "<table border=\"1\" class=\"dataframe\">\n",
       "  <thead>\n",
       "    <tr style=\"text-align: right;\">\n",
       "      <th></th>\n",
       "      <th>title</th>\n",
       "      <th>author</th>\n",
       "      <th>year</th>\n",
       "    </tr>\n",
       "  </thead>\n",
       "  <tbody>\n",
       "    <tr>\n",
       "      <th>0</th>\n",
       "      <td>The Weirdstone of Brisingamen</td>\n",
       "      <td>Alan Garner</td>\n",
       "      <td>1960</td>\n",
       "    </tr>\n",
       "    <tr>\n",
       "      <th>1</th>\n",
       "      <td>Perdido Street Station</td>\n",
       "      <td>China Miéville</td>\n",
       "      <td>2000</td>\n",
       "    </tr>\n",
       "    <tr>\n",
       "      <th>2</th>\n",
       "      <td>Thud!</td>\n",
       "      <td>Terry Pratchett</td>\n",
       "      <td>2005</td>\n",
       "    </tr>\n",
       "    <tr>\n",
       "      <th>3</th>\n",
       "      <td>The Spellman Files</td>\n",
       "      <td>Lisa Lutz</td>\n",
       "      <td>2007</td>\n",
       "    </tr>\n",
       "    <tr>\n",
       "      <th>4</th>\n",
       "      <td>Small Gods</td>\n",
       "      <td>Terry Pratchett</td>\n",
       "      <td>1992</td>\n",
       "    </tr>\n",
       "  </tbody>\n",
       "</table>\n",
       "</div>"
      ],
      "text/plain": [
       "                           title           author  year\n",
       "0  The Weirdstone of Brisingamen      Alan Garner  1960\n",
       "1         Perdido Street Station   China Miéville  2000\n",
       "2                          Thud!  Terry Pratchett  2005\n",
       "3             The Spellman Files        Lisa Lutz  2007\n",
       "4                     Small Gods  Terry Pratchett  1992"
      ]
     },
     "execution_count": 33,
     "metadata": {},
     "output_type": "execute_result"
    }
   ],
   "source": [
    "books"
   ]
  },
  {
   "cell_type": "code",
   "execution_count": 34,
   "id": "86c8e44e",
   "metadata": {},
   "outputs": [
    {
     "data": {
      "text/plain": [
       "5"
      ]
     },
     "execution_count": 34,
     "metadata": {},
     "output_type": "execute_result"
    }
   ],
   "source": [
    "books.to_sql('books',conn,if_exists='append',index=False)\n",
    "\n",
    "# write to sqllite"
   ]
  },
  {
   "cell_type": "code",
   "execution_count": 35,
   "id": "0334e437",
   "metadata": {},
   "outputs": [
    {
     "data": {
      "text/plain": [
       "[('The Weirdstone of Brisingamen', 'Alan Garner', 1960),\n",
       " ('Perdido Street Station', 'China Miéville', 2000),\n",
       " ('Thud!', 'Terry Pratchett', 2005),\n",
       " ('The Spellman Files', 'Lisa Lutz', 2007),\n",
       " ('Small Gods', 'Terry Pratchett', 1992)]"
      ]
     },
     "execution_count": 35,
     "metadata": {},
     "output_type": "execute_result"
    }
   ],
   "source": [
    "c.execute('''select * from books''')\n",
    "c.fetchall()"
   ]
  },
  {
   "cell_type": "markdown",
   "id": "4bcc12bc",
   "metadata": {},
   "source": [
    "###### 6. Select and print the title column from the book table in alphabetical order."
   ]
  },
  {
   "cell_type": "code",
   "execution_count": 36,
   "id": "7a010e1f",
   "metadata": {},
   "outputs": [
    {
     "data": {
      "text/plain": [
       "[('Perdido Street Station',),\n",
       " ('Small Gods',),\n",
       " ('The Spellman Files',),\n",
       " ('The Weirdstone of Brisingamen',),\n",
       " ('Thud!',)]"
      ]
     },
     "execution_count": 36,
     "metadata": {},
     "output_type": "execute_result"
    }
   ],
   "source": [
    "c.execute('''select title from books order by title asc''')\n",
    "c.fetchall()"
   ]
  },
  {
   "cell_type": "markdown",
   "id": "95598292",
   "metadata": {},
   "source": [
    "###### 7. From the book table, select and print all columns in the order of publication.\n"
   ]
  },
  {
   "cell_type": "code",
   "execution_count": 37,
   "id": "f15c22b7",
   "metadata": {},
   "outputs": [
    {
     "data": {
      "text/plain": [
       "[('The Weirdstone of Brisingamen', 'Alan Garner', 1960),\n",
       " ('Small Gods', 'Terry Pratchett', 1992),\n",
       " ('Perdido Street Station', 'China Miéville', 2000),\n",
       " ('Thud!', 'Terry Pratchett', 2005),\n",
       " ('The Spellman Files', 'Lisa Lutz', 2007)]"
      ]
     },
     "execution_count": 37,
     "metadata": {},
     "output_type": "execute_result"
    }
   ],
   "source": [
    "c.execute('''select * from books order by year asc''')\n",
    "c.fetchall()"
   ]
  },
  {
   "cell_type": "markdown",
   "id": "e6c6ed5d",
   "metadata": {},
   "source": [
    "###### 8. Use the sqlalchemy module to connect to the sqlite3 database books.db that you just made in exercise 6"
   ]
  },
  {
   "cell_type": "code",
   "execution_count": 38,
   "id": "23c6bfda",
   "metadata": {},
   "outputs": [
    {
     "name": "stdout",
     "output_type": "stream",
     "text": [
      "Requirement already satisfied: sqlalchemy in c:\\users\\sanch\\anaconda3\\lib\\site-packages (1.4.32)\n",
      "Requirement already satisfied: greenlet!=0.4.17 in c:\\users\\sanch\\anaconda3\\lib\\site-packages (from sqlalchemy) (1.1.1)\n",
      "Note: you may need to restart the kernel to use updated packages.\n"
     ]
    }
   ],
   "source": [
    "pip install sqlalchemy\n"
   ]
  },
  {
   "cell_type": "code",
   "execution_count": 39,
   "id": "a2f29570",
   "metadata": {},
   "outputs": [
    {
     "name": "stdout",
     "output_type": "stream",
     "text": [
      "Requirement already satisfied: pip in c:\\users\\sanch\\anaconda3\\lib\\site-packages (23.0.1)\n",
      "Note: you may need to restart the kernel to use updated packages.\n"
     ]
    }
   ],
   "source": [
    "pip install --upgrade pip"
   ]
  },
  {
   "cell_type": "code",
   "execution_count": 40,
   "id": "5ed5988c",
   "metadata": {},
   "outputs": [],
   "source": [
    "import sqlalchemy as db"
   ]
  },
  {
   "cell_type": "code",
   "execution_count": 41,
   "id": "1be40e5d",
   "metadata": {},
   "outputs": [],
   "source": [
    "engine = db.create_engine('sqlite:///books.db')\n",
    "#To connect with the database, use the create_engine() function."
   ]
  },
  {
   "cell_type": "code",
   "execution_count": 42,
   "id": "1f60246c",
   "metadata": {},
   "outputs": [],
   "source": [
    "connection = engine.connect()\n",
    "#use the connect() function to connect with the database."
   ]
  },
  {
   "cell_type": "code",
   "execution_count": 43,
   "id": "e749841d",
   "metadata": {},
   "outputs": [],
   "source": [
    "metadata = db.MetaData()\n",
    "\n",
    "#We can retrieve the metadata about our database with DB.metadata."
   ]
  },
  {
   "cell_type": "code",
   "execution_count": 44,
   "id": "36ff1af5",
   "metadata": {},
   "outputs": [],
   "source": [
    "shows = db.Table('books', metadata, autoload=True, autoload_with=engine)\n",
    "#To load the SQL table, use the db.Table() function. The Table() function takes Shows table, Metadata, \n",
    "#autoload=True, and autoload_with=engine."
   ]
  },
  {
   "cell_type": "code",
   "execution_count": 45,
   "id": "4ef06a60",
   "metadata": {},
   "outputs": [],
   "source": [
    "query = db.select([shows])\n",
    "\n",
    "#With our table loaded, let’s prepare a query to \n",
    "#select all the records from the shows table. In regular SQL,\n",
    "#to select all the records, it is “SELECT * FROM shows”. The SQLAlchemy Core \n",
    "#query looks like this."
   ]
  },
  {
   "cell_type": "code",
   "execution_count": 46,
   "id": "630ca0a6",
   "metadata": {},
   "outputs": [],
   "source": [
    "result_proxy = connection.execute(query)\n",
    "\n",
    "#To execute the query, use execute() function. It returns the object that \n",
    "#proxies cursor object from the Python Database API."
   ]
  },
  {
   "cell_type": "code",
   "execution_count": 47,
   "id": "f2623680",
   "metadata": {},
   "outputs": [],
   "source": [
    "result_set = result_proxy.fetchall()\n",
    "\n",
    "#To fetch the data from the object, use the fetchall() method."
   ]
  },
  {
   "cell_type": "code",
   "execution_count": 48,
   "id": "a038d9df",
   "metadata": {},
   "outputs": [
    {
     "name": "stdout",
     "output_type": "stream",
     "text": [
      "[('The Weirdstone of Brisingamen', 'Alan Garner', 1960), ('Perdido Street Station', 'China Miéville', 2000), ('Thud!', 'Terry Pratchett', 2005), ('The Spellman Files', 'Lisa Lutz', 2007), ('Small Gods', 'Terry Pratchett', 1992)]\n"
     ]
    }
   ],
   "source": [
    "print(result_set)"
   ]
  },
  {
   "cell_type": "markdown",
   "id": "d9029159",
   "metadata": {},
   "source": [
    "**9. Install the Redis server and the Python redis library (pip install redis) on your computer. Create a Redis hash called test with the fields count (1) and name ('Fester Bestertester'). Print all the fields for test**"
   ]
  },
  {
   "cell_type": "code",
   "execution_count": 1,
   "id": "ccbfb2c7",
   "metadata": {},
   "outputs": [
    {
     "name": "stdout",
     "output_type": "stream",
     "text": [
      "Requirement already satisfied: redis in c:\\users\\sanch\\anaconda3\\lib\\site-packages (4.3.4)\n",
      "Requirement already satisfied: deprecated>=1.2.3 in c:\\users\\sanch\\anaconda3\\lib\\site-packages (from redis) (1.2.13)\n",
      "Requirement already satisfied: packaging>=20.4 in c:\\users\\sanch\\anaconda3\\lib\\site-packages (from redis) (21.3)\n",
      "Requirement already satisfied: async-timeout>=4.0.2 in c:\\users\\sanch\\anaconda3\\lib\\site-packages (from redis) (4.0.2)\n",
      "Requirement already satisfied: wrapt<2,>=1.10 in c:\\users\\sanch\\anaconda3\\lib\\site-packages (from deprecated>=1.2.3->redis) (1.12.1)\n",
      "Requirement already satisfied: pyparsing!=3.0.5,>=2.0.2 in c:\\users\\sanch\\anaconda3\\lib\\site-packages (from packaging>=20.4->redis) (3.0.4)\n"
     ]
    }
   ],
   "source": [
    "!pip install redis"
   ]
  },
  {
   "cell_type": "code",
   "execution_count": 18,
   "id": "6bf75e27",
   "metadata": {},
   "outputs": [
    {
     "name": "stdout",
     "output_type": "stream",
     "text": [
      "{b'count': b'1', b'name': b'Fester Bestertester'}\n"
     ]
    }
   ],
   "source": [
    "import redis\n",
    "conn = redis.Redis()\n",
    "conn.hset('test', 'count', 1)\n",
    "conn.hset('test', 'name', 'Fester Bestertester')\n",
    "result = conn.hgetall('test')\n",
    "print(result)  # Output: {b'count': b'1', b'name': b'Fester Bestertester'}"
   ]
  },
  {
   "cell_type": "markdown",
   "id": "8827be0a",
   "metadata": {},
   "source": [
    "##### 10. Increment the count field of test and print it."
   ]
  },
  {
   "cell_type": "code",
   "execution_count": 19,
   "id": "0d58cce4",
   "metadata": {},
   "outputs": [
    {
     "data": {
      "text/plain": [
       "b'2'"
      ]
     },
     "execution_count": 19,
     "metadata": {},
     "output_type": "execute_result"
    }
   ],
   "source": [
    "conn.hincrby('test', 'count', 1)\n",
    "conn.hget('test', 'count')"
   ]
  }
 ],
 "metadata": {
  "kernelspec": {
   "display_name": "Python 3 (ipykernel)",
   "language": "python",
   "name": "python3"
  },
  "language_info": {
   "codemirror_mode": {
    "name": "ipython",
    "version": 3
   },
   "file_extension": ".py",
   "mimetype": "text/x-python",
   "name": "python",
   "nbconvert_exporter": "python",
   "pygments_lexer": "ipython3",
   "version": "3.9.12"
  }
 },
 "nbformat": 4,
 "nbformat_minor": 5
}
