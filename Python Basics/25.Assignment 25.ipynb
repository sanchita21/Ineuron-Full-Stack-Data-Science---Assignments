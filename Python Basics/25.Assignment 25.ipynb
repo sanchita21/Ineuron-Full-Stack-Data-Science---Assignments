{
 "cells": [
  {
   "cell_type": "markdown",
   "id": "c69a3e21",
   "metadata": {},
   "source": [
    "**1 What is the difference between enclosing a list comprehension in square brackets and\n",
    "parentheses?**"
   ]
  },
  {
   "cell_type": "code",
   "execution_count": 1,
   "id": "6a1f6ada",
   "metadata": {},
   "outputs": [],
   "source": [
    "l=[a*a for a in range(1,10)]"
   ]
  },
  {
   "cell_type": "code",
   "execution_count": 2,
   "id": "517dd708",
   "metadata": {},
   "outputs": [
    {
     "data": {
      "text/plain": [
       "[1, 4, 9, 16, 25, 36, 49, 64, 81]"
      ]
     },
     "execution_count": 2,
     "metadata": {},
     "output_type": "execute_result"
    }
   ],
   "source": [
    "l"
   ]
  },
  {
   "cell_type": "code",
   "execution_count": 7,
   "id": "3d95fc3c",
   "metadata": {},
   "outputs": [],
   "source": [
    "# When you enclose a list comprehension in square brackets, it creates a list.\n",
    "# The expression inside the square brackets is evaluated for each item in the iterable\n",
    "# and a new list is created containing the evaluated values."
   ]
  },
  {
   "cell_type": "code",
   "execution_count": 3,
   "id": "c9899dd2",
   "metadata": {},
   "outputs": [],
   "source": [
    "l=(a*a for a in range(1,10))"
   ]
  },
  {
   "cell_type": "code",
   "execution_count": 4,
   "id": "e9995cc0",
   "metadata": {},
   "outputs": [
    {
     "data": {
      "text/plain": [
       "<generator object <genexpr> at 0x0000027D1F757900>"
      ]
     },
     "execution_count": 4,
     "metadata": {},
     "output_type": "execute_result"
    }
   ],
   "source": [
    "l\n"
   ]
  },
  {
   "cell_type": "code",
   "execution_count": 6,
   "id": "605429bc",
   "metadata": {},
   "outputs": [],
   "source": [
    "# On the other hand, when you enclose a list comprehension in parentheses, \n",
    "# it creates a generator object. A generator is an iterable object that generates values on-the-fly\n",
    "# instead of creating an entire list upfront. The expression inside the parentheses is also evaluated for each item\n",
    "# in the iterable, but the values are generated one at a time when needed."
   ]
  },
  {
   "cell_type": "markdown",
   "id": "d5c63540",
   "metadata": {},
   "source": [
    "**2) What is the relationship between generators and iterators?**"
   ]
  },
  {
   "cell_type": "markdown",
   "id": "eb61fa5e",
   "metadata": {},
   "source": [
    "\n",
    "Generators and iterators are closely related concepts in Python. In fact, generators are a specific type of iterator. Both generators and iterators allow for efficient and flexible iteration over collections of data, but they differ in their implementation and usage.\n",
    "\n",
    "An iterator is an object that implements the iterator protocol, which involves the __iter__() and __next__() methods. The __iter__() method returns the iterator object itself, while the __next__() method retrieves the next item from the collection. Iterators keep track of their internal state to remember the progress of iteration.\n",
    "\n",
    "On the other hand, a generator is a special type of iterator that is defined using a generator function. A generator function is denoted by the yield keyword and can be considered as a sequence of values that are generated one at a time. When a generator function is called, it returns a generator object that can be iterated over. The yield statement is used to produce a value from the generator function, and the execution of the generator is paused until the next value is requested."
   ]
  },
  {
   "cell_type": "markdown",
   "id": "96104a10",
   "metadata": {},
   "source": [
    "**3) What are the signs that a function is a generator function?**"
   ]
  },
  {
   "cell_type": "markdown",
   "id": "fc352542",
   "metadata": {},
   "source": [
    "There are a few signs that can indicate that a function is a generator function:\n",
    "\n",
    "The presence of the yield keyword: A generator function contains at least one yield statement. The yield keyword is used to produce a value from the generator and temporarily suspends the function's execution until the next value is requested.\n",
    "\n",
    "The use of the yield statement instead of return: In a regular function, the return statement is used to return a value and terminate the function. In a generator function, yield is used to produce a value, but the function continues to execute from where it left off after each yield statement, allowing for multiple values to be generated over time.\n",
    "\n",
    "The function definition uses the def keyword: Generator functions are defined using the def keyword, just like regular functions. However, the presence of the yield statement within the function body distinguishes it as a generator function."
   ]
  },
  {
   "cell_type": "code",
   "execution_count": 1,
   "id": "90be6c8d",
   "metadata": {},
   "outputs": [],
   "source": [
    "def my_generator():\n",
    "    yield 1\n",
    "    yield 2\n",
    "    yield 3\n",
    "\n",
    "# Using the generator function\n",
    "generator_obj = my_generator()"
   ]
  },
  {
   "cell_type": "markdown",
   "id": "bb1942e4",
   "metadata": {},
   "source": [
    "In the example above, my_generator() is a generator function because it uses the yield keyword to produce values. When called, it returns a generator object (generator_obj), which can be iterated over to obtain the generated values.\n",
    "\n",
    "Remember that the presence of the yield keyword and the usage of the generator function in an iterative context (e.g., in a for loop) are clear indicators that a function is a generator function."
   ]
  },
  {
   "cell_type": "markdown",
   "id": "906dc807",
   "metadata": {},
   "source": [
    "**4) What is the purpose of a yield statement?**"
   ]
  },
  {
   "cell_type": "markdown",
   "id": "5e61ff07",
   "metadata": {},
   "source": [
    "The purpose of a yield statement is to produce a value from a generator function and suspend its execution temporarily. It enables the generator to generate values on-demand, maintain internal state, and facilitate controlled iteration, allowing for efficient and lazy generation of sequences."
   ]
  },
  {
   "cell_type": "markdown",
   "id": "997dce80",
   "metadata": {},
   "source": [
    "**5) What is the relationship between map calls and list comprehensions? Make a comparison and\n",
    "contrast between the two**"
   ]
  },
  {
   "cell_type": "markdown",
   "id": "f40d5120",
   "metadata": {},
   "source": [
    "Both map calls and list comprehensions are techniques used in programming languages like Python to transform data in collections (such as lists) through applying a function to each element. However, they have some differences in terms of syntax and usage. Let's compare and contrast the two:\n",
    "\n",
    "Map Calls:\n",
    "\n",
    "Syntax: Map calls involve using the map() function, which takes a function and an iterable (e.g., a list) as arguments. The function is applied to each element of the iterable, and the results are collected into a new iterable (often a map object or a list if explicitly converted).\n",
    "\n",
    "Explicit Function: You need to define a separate function to apply to each element.\n",
    "\n",
    "Lazy Evaluation: Map returns an iterator that generates values on-the-fly as you iterate through it. It doesn't create a new list in memory immediately.\n",
    "\n",
    "Readability: Depending on the complexity of the function, map calls can sometimes be less readable, especially when the function logic is more involved.\n",
    "\n",
    "List Comprehensions:\n",
    "\n",
    "Syntax: List comprehensions provide a concise way to create lists by applying an expression to each element in an iterable. The syntax involves enclosing the expression in square brackets [expression for element in iterable].\n",
    "\n",
    "Embedded Expression: The transformation logic is embedded directly within the comprehension. No need to define a separate function.\n",
    "\n",
    "Eager Evaluation: List comprehensions generate the entire list in memory immediately. This can be both an advantage and a disadvantage depending on the use case.\n",
    "\n",
    "Readability: List comprehensions are generally considered more readable, especially for simple transformations, as the transformation logic is right there in the expression.\n",
    "\n",
    "Comparison:\n",
    "\n",
    "Readability: List comprehensions are often more readable, especially for simple transformations, because the transformation logic is directly embedded.\n",
    "\n",
    "Performance: In terms of performance, map() and list comprehensions can be comparable, but the lazy evaluation of map() can sometimes be advantageous for large datasets.\n",
    "\n",
    "Flexibility: List comprehensions are more flexible when the transformation logic is relatively simple, but map() provides more flexibility if the transformation logic is complex and requires a separate function.\n",
    "\n",
    "Contrast:\n",
    "\n",
    "Syntax: List comprehensions have a more compact and intuitive syntax, while map() requires a separate function and is slightly more verbose.\n",
    "\n",
    "Eager vs. Lazy Evaluation: List comprehensions perform eager evaluation, creating the entire list in memory, while map() performs lazy evaluation, which can be memory-efficient for large datasets.\n",
    "\n",
    "Function Definition: List comprehensions embed the transformation logic within the expression, eliminating the need for a separate function, unlike map().\n",
    "\n",
    "\n"
   ]
  },
  {
   "cell_type": "code",
   "execution_count": null,
   "id": "aca3df20",
   "metadata": {},
   "outputs": [],
   "source": []
  }
 ],
 "metadata": {
  "kernelspec": {
   "display_name": "Python 3 (ipykernel)",
   "language": "python",
   "name": "python3"
  },
  "language_info": {
   "codemirror_mode": {
    "name": "ipython",
    "version": 3
   },
   "file_extension": ".py",
   "mimetype": "text/x-python",
   "name": "python",
   "nbconvert_exporter": "python",
   "pygments_lexer": "ipython3",
   "version": "3.9.12"
  }
 },
 "nbformat": 4,
 "nbformat_minor": 5
}
