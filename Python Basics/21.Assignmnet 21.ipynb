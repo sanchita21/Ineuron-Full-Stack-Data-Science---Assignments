{
 "cells": [
  {
   "cell_type": "markdown",
   "id": "84ac8ea6",
   "metadata": {},
   "source": [
    "###### 1. Add the current date to the text file today.txt as a string."
   ]
  },
  {
   "cell_type": "code",
   "execution_count": 18,
   "id": "a23441d9",
   "metadata": {},
   "outputs": [],
   "source": [
    "import datetime\n",
    "file=open(\"today.txt\",\"w\")\n",
    "\n",
    "file.write(datetime.datetime.now().strftime('%d-%m-%y'))\n",
    "\n",
    "file.close()\n"
   ]
  },
  {
   "cell_type": "code",
   "execution_count": 19,
   "id": "8c4174e6",
   "metadata": {},
   "outputs": [
    {
     "name": "stdout",
     "output_type": "stream",
     "text": [
      "03-11-22\n"
     ]
    }
   ],
   "source": [
    "#code to read the current date freom today.txt file\n",
    "\n",
    "file=open('today.txt',\"r\")\n",
    "print(file.read())"
   ]
  },
  {
   "cell_type": "markdown",
   "id": "0d0c2916",
   "metadata": {},
   "source": [
    "###### 2. Read the text file today.txt into the string today_string"
   ]
  },
  {
   "cell_type": "code",
   "execution_count": 20,
   "id": "c138e5c0",
   "metadata": {},
   "outputs": [],
   "source": [
    "file=open(\"today.txt\",\"r\")\n",
    "today_string=file.read()"
   ]
  },
  {
   "cell_type": "code",
   "execution_count": 25,
   "id": "53a65677",
   "metadata": {},
   "outputs": [
    {
     "name": "stdout",
     "output_type": "stream",
     "text": [
      "03-11-22\n"
     ]
    },
    {
     "data": {
      "text/plain": [
       "str"
      ]
     },
     "execution_count": 25,
     "metadata": {},
     "output_type": "execute_result"
    }
   ],
   "source": [
    "print(today_string)\n",
    "type(today_string)"
   ]
  },
  {
   "cell_type": "markdown",
   "id": "deb47ce8",
   "metadata": {},
   "source": [
    "###### 3. Parse the date from today_string."
   ]
  },
  {
   "cell_type": "code",
   "execution_count": 27,
   "id": "21d653e1",
   "metadata": {},
   "outputs": [
    {
     "name": "stdout",
     "output_type": "stream",
     "text": [
      "2022-03-11 00:00:00\n",
      "<class 'datetime.datetime'>\n"
     ]
    }
   ],
   "source": [
    "from dateutil import parser\n",
    "\n",
    "DT = parser.parse(today_string)\n",
    "\n",
    "print(DT)\n",
    "print(type(DT))\n"
   ]
  },
  {
   "cell_type": "markdown",
   "id": "e3b7aa48",
   "metadata": {},
   "source": [
    "###### 4. List the files in your current directory"
   ]
  },
  {
   "cell_type": "code",
   "execution_count": 28,
   "id": "4399401a",
   "metadata": {},
   "outputs": [],
   "source": [
    "import os"
   ]
  },
  {
   "cell_type": "code",
   "execution_count": 31,
   "id": "e07a4972",
   "metadata": {},
   "outputs": [
    {
     "data": {
      "text/plain": [
       "b'C:\\\\Users\\\\sanch\\\\Documents\\\\Ineuron\\\\Assignments\\\\Python Basics'"
      ]
     },
     "execution_count": 31,
     "metadata": {},
     "output_type": "execute_result"
    }
   ],
   "source": [
    "os.getcwdb()"
   ]
  },
  {
   "cell_type": "code",
   "execution_count": 32,
   "id": "4d84fa0a",
   "metadata": {},
   "outputs": [
    {
     "data": {
      "text/plain": [
       "['.ipynb_checkpoints',\n",
       " '01.Assignment 1.ipynb',\n",
       " '02.Assignment 2.ipynb',\n",
       " '03.Assignment 3.ipynb',\n",
       " '04.Assignment 4.ipynb',\n",
       " '05.Assignment 5.ipynb',\n",
       " '06.Assignment 6.ipynb',\n",
       " '07.Assignment 7.ipynb',\n",
       " '08.Assignment 8.ipynb',\n",
       " '09.Assignment 9.ipynb',\n",
       " '10.Assignment 10.ipynb',\n",
       " '11.Assigmnent  11.ipynb',\n",
       " '12.Assignment 12.ipynb',\n",
       " '13.Assignment 13.ipynb',\n",
       " '14.Assignment 14.ipynb',\n",
       " '15.Assignment 15.ipynb',\n",
       " '16.Assignment 16.ipynb',\n",
       " '17.Assignment 17.ipynb',\n",
       " '18.Assignmnet 18.ipynb',\n",
       " '19.Assignmnet 19.ipynb',\n",
       " '20.Assignmnet 20.ipynb',\n",
       " '21.Assignment 21.ipynb',\n",
       " '21.Assignmnet 21.ipynb',\n",
       " '22.Assignment 22.ipynb',\n",
       " '23.Assignment 23.ipynb',\n",
       " '24.Assignment 24.ipynb',\n",
       " 'book.avif',\n",
       " 'books.csv',\n",
       " 'books.db',\n",
       " 'cropped.png',\n",
       " 'croppedIm.png',\n",
       " 'file.csv',\n",
       " \"ML- Class 1 Live Class 08 October'22.ipynb\",\n",
       " 'myimage.jpg',\n",
       " 'my_cv.pdf',\n",
       " 'new_filename.png',\n",
       " 'pycharm-community-2022.1.2.exe',\n",
       " 'readme.txt',\n",
       " 'schoolrecords.csv',\n",
       " 'shows.db',\n",
       " 'test.txt',\n",
       " 'test1ineuron.txt',\n",
       " 'testineuron.txt',\n",
       " 'today.txt',\n",
       " 'zoo.py',\n",
       " 'zophie.png',\n",
       " '__pycache__']"
      ]
     },
     "execution_count": 32,
     "metadata": {},
     "output_type": "execute_result"
    }
   ],
   "source": [
    "os.listdir()"
   ]
  },
  {
   "cell_type": "markdown",
   "id": "ee8d88b1",
   "metadata": {},
   "source": [
    "###### 5. Create a list of all of the files in your parent directory (minimum five files should be available)."
   ]
  },
  {
   "cell_type": "code",
   "execution_count": 36,
   "id": "a78f9639",
   "metadata": {},
   "outputs": [
    {
     "data": {
      "text/plain": [
       "'C:\\\\Users\\\\sanch\\\\Documents\\\\Ineuron\\\\Assignments'"
      ]
     },
     "execution_count": 36,
     "metadata": {},
     "output_type": "execute_result"
    }
   ],
   "source": [
    "os.path.dirname('C:\\\\Users\\\\sanch\\\\Documents\\\\Ineuron\\\\Assignments\\\\Python Basics')"
   ]
  },
  {
   "cell_type": "code",
   "execution_count": 38,
   "id": "4b65e20a",
   "metadata": {},
   "outputs": [
    {
     "data": {
      "text/plain": [
       "['.ipynb_checkpoints', 'Python Basics', 'Python Basics Programming']"
      ]
     },
     "execution_count": 38,
     "metadata": {},
     "output_type": "execute_result"
    }
   ],
   "source": [
    "os.listdir(path='C:\\\\Users\\\\sanch\\\\Documents\\\\Ineuron\\\\Assignments')"
   ]
  },
  {
   "cell_type": "code",
   "execution_count": null,
   "id": "a624dbcf",
   "metadata": {},
   "outputs": [],
   "source": [
    "#another method"
   ]
  },
  {
   "cell_type": "code",
   "execution_count": 41,
   "id": "b9ed539b",
   "metadata": {},
   "outputs": [],
   "source": [
    "gp =  os.path.dirname(os.path.dirname('C:\\\\Users\\\\sanch\\\\Documents\\\\Ineuron\\\\Assignments\\\\Python Basics'))"
   ]
  },
  {
   "cell_type": "code",
   "execution_count": 42,
   "id": "85ca2b8c",
   "metadata": {},
   "outputs": [
    {
     "name": "stdout",
     "output_type": "stream",
     "text": [
      "C:\\Users\\sanch\\Documents\\Ineuron\n"
     ]
    }
   ],
   "source": [
    "print(gp)"
   ]
  },
  {
   "cell_type": "code",
   "execution_count": 45,
   "id": "ba55a62a",
   "metadata": {},
   "outputs": [
    {
     "data": {
      "text/plain": [
       "['.ipynb_checkpoints',\n",
       " '10th July Live Class My SQL Part 1.ipynb',\n",
       " '11th June - 11th Live Class.ipynb',\n",
       " '13th August Live Class (Missed Class Practice).ipynb',\n",
       " '13th October EDA.ipynb',\n",
       " '14th May - 3rd Live Class.ipynb',\n",
       " '15th May - 4th Live Class.ipynb',\n",
       " '18th June - 12th Live Class.ipynb',\n",
       " '19th June - 13th Live Class.ipynb',\n",
       " '20th Aug Live Class.ipynb',\n",
       " '21st May- 5th Live Class.ipynb',\n",
       " '22nd May - 6th Live Class.ipynb',\n",
       " '24th July Live Class (Missed Practice).ipynb',\n",
       " '25th Sept Live class EDA Feature Engineering.ipynb',\n",
       " '28th May - 7th Live Class.ipynb',\n",
       " '29th May - 8th Live Class.ipynb',\n",
       " '30th July Live Class. Pandas.ipynb',\n",
       " '31st JUly Live Class - Pandas + Numpy 2nd Class.ipynb',\n",
       " '5th June - 10th Live Class.ipynb',\n",
       " 'Assignment 7.ipynb',\n",
       " 'Assignments',\n",
       " 'AUC.PNG',\n",
       " 'automate2e_SampleCh7.pdf',\n",
       " 'Automate_the_Boring_Stuff_2e_onlinematerials',\n",
       " 'Automate_the_Boring_Stuff_2e_onlinematerials.zip',\n",
       " 'Become_a_Data_Scientist_in_2021_with_these_10_resources___by_Rahul_Agarwal___Towards_Data_Science.pdf',\n",
       " 'blankPDF.pdf',\n",
       " 'com.gravity22.music.song.lyric.Napkforpc.com.apk',\n",
       " 'com.unixus.mxm.Napkforpc.com (1).apk',\n",
       " 'com.unixus.mxm.Napkforpc.com.apk',\n",
       " 'confusionMatrix.PNG',\n",
       " 'data fsds -20220726T152728Z-001.zip',\n",
       " 'data fsds -Pandas',\n",
       " 'diabetes.csv',\n",
       " 'DressSales.csv',\n",
       " 'EDA _Practice day -Doubt clearing session 06 october.ipynb',\n",
       " 'Fitbit .csv',\n",
       " 'Fitbit.csv',\n",
       " 'googleplay_cleaned.csv',\n",
       " 'Hypothesis Testing Live Class 01 October.ipynb',\n",
       " 'LDPlayer9_ens_com.musixmatch.android.lyrify_3040_ld.exe',\n",
       " 'Live Class Tasks 1 Fitbit .ipynb',\n",
       " 'logging',\n",
       " 'Logging & Debugging.ipynb',\n",
       " \"Logistic Regression Live Class 16th Oct'22.ipynb\",\n",
       " 'Logistic-regression_final',\n",
       " 'Logistic-regression_final.zip',\n",
       " 'logisticRegression.PNG',\n",
       " 'minilyrics.exe',\n",
       " 'modelForPrediction.sav',\n",
       " \"Multiple Regression Live Class 15th October'22.ipynb\",\n",
       " 'MUSIXMATCH_3.14.4564.AppxBundle',\n",
       " 'Postman-win64-Setup.exe',\n",
       " 'PyPDF2 Library.ipynb',\n",
       " 'Python - Working with Loops.ipynb',\n",
       " 'Revision and task solving (1).ipynb',\n",
       " 'ROC.PNG',\n",
       " 'sales_data_final.csv',\n",
       " 'sandardScalar.sav',\n",
       " 'student_performance',\n",
       " 'student_performance.zip',\n",
       " 'Superstore_USA.xlsx',\n",
       " 'test.txt',\n",
       " 'test1.txt',\n",
       " 'test2.log',\n",
       " 'test2.txt',\n",
       " 'test5.txt',\n",
       " 'test7.txt',\n",
       " 'tradeoff.PNG',\n",
       " 'Untitled Folder',\n",
       " 'Untitled.ipynb',\n",
       " 'Untitled2 (1).ipynb',\n",
       " 'VSCodeUserSetup-x64-1.72.2.exe',\n",
       " 'while loop and basic of function .ipynb',\n",
       " 'Zoom_cm_fo42pnktZ9vvrZo4_myqB2hJGDGX8hQMO+QtVNCzimV4rE3ccI0yaa@xb8hj7-DXj2x5Eo5_kae10b84b6b201776_.exe']"
      ]
     },
     "execution_count": 45,
     "metadata": {},
     "output_type": "execute_result"
    }
   ],
   "source": [
    "os.listdir(path='C:\\\\Users\\\\sanch\\\\Documents\\\\Ineuron')"
   ]
  },
  {
   "cell_type": "markdown",
   "id": "ba126fa1",
   "metadata": {},
   "source": [
    "###### 6. Use multiprocessing to create three separate processes. Make each one wait a random number of seconds between one and five, print the current time, and then exit."
   ]
  },
  {
   "cell_type": "code",
   "execution_count": 46,
   "id": "eba76220",
   "metadata": {},
   "outputs": [],
   "source": [
    "import multiprocessing\n",
    "import time \n",
    "import random\n",
    "import datetime\n",
    "\n",
    "def procOne():\n",
    "    print(f'Proc_one_Starttime -> {datetime.datetime.now()}')\n",
    "    time.sleep(random.randint(1,5))\n",
    "    print(f'Proc_one_Endtime -> {datetime.datetime.now()}')\n",
    "    \n",
    "def procTwo():\n",
    "    print(f'Proc_two_Starttime -> {datetime.datetime.now()}')\n",
    "    time.sleep(random.randint(1,5))\n",
    "    print(f'Proc_two_Endtime -> {datetime.datetime.now()}')\n",
    "\n",
    "def procThree():\n",
    "    print(f'Proc_two_Starttime -> {datetime.datetime.now()}')\n",
    "    time.sleep(random.randint(1,5))\n",
    "    print(f'Proc_two_Endtime -> {datetime.datetime.now()}')\n",
    "    \n",
    "if __name__ == \"__main__\":    \n",
    "    p1 = multiprocessing.Process(target=procOne)\n",
    "    p2 = multiprocessing.Process(target=procTwo)\n",
    "    p3 = multiprocessing.Process(target=procThree)\n",
    "\n",
    "    p1.start()\n",
    "    p2.start()\n",
    "    p3.start()\n",
    "\n",
    "    p1.join()\n",
    "    p2.join()\n",
    "    p3.join()"
   ]
  },
  {
   "cell_type": "code",
   "execution_count": 51,
   "id": "5ddfb8e3",
   "metadata": {},
   "outputs": [],
   "source": [
    "import multiprocessing\n",
    "import time \n",
    "import random\n",
    "import datetime\n",
    "\n",
    "def procOne():\n",
    "    print(f'Proc_one_Starttime -> {datetime.datetime.now()}')\n",
    "    time.sleep(random.randint(1,5))\n",
    "    print(f'Proc_one_Endtime -> {datetime.datetime.now()}')\n",
    "    \n",
    "def procTwo():\n",
    "    print(f'Proc_two_Starttime -> {datetime.datetime.now()}')\n",
    "    time.sleep(random.randint(1,5))\n",
    "    print(f'Proc_two_Endtime -> {datetime.datetime.now()}')\n",
    "\n",
    "def procThree():\n",
    "    print(f'Proc_two_Starttime -> {datetime.datetime.now()}')\n",
    "    time.sleep(random.randint(1,5))\n",
    "    print(f'Proc_two_Endtime -> {datetime.datetime.now()}')\n",
    "    \n",
    "if __name__ == \"__main__\":    \n",
    "    p1 = multiprocessing.Process(target=procOne)\n",
    "    p2 = multiprocessing.Process(target=procTwo)\n",
    "    p3 = multiprocessing.Process(target=procThree)\n",
    "\n",
    "    p1.start()\n",
    "    p2.start()\n",
    "    p3.start()\n",
    "\n",
    "    p1.join()\n",
    "    p2.join()\n",
    "    p3.join()"
   ]
  },
  {
   "cell_type": "markdown",
   "id": "567a21f6",
   "metadata": {},
   "source": [
    "C:\\Users\\sanch\\anaconda3\\envs\\anaconda3\\python.exe \"C:\\Users\\sanch\\anaconda3\\pkgs\\twisted-22.2.0-py39h2bbff1b_0\\Lib\\site-packages\\twisted\\web\\Multiprocessing in python.py\" \n",
    "Proc_two_Starttime -> 2022-11-03 07:18:33.703410\n",
    "Proc_two_Starttime -> 2022-11-03 07:18:33.710409\n",
    "Proc_one_Starttime -> 2022-11-03 07:18:33.711420\n",
    "Proc_one_Endtime -> 2022-11-03 07:18:34.715718\n",
    "Proc_two_Endtime -> 2022-11-03 07:18:36.706552\n",
    "Proc_two_Endtime -> 2022-11-03 07:18:36.721392\n",
    "\n",
    "Process finished with exit code 0\n",
    "\n",
    "\n",
    "Due to some unknown reason. the above did not print any results in the jupyter cell. so i copied the code to a python file. executed it and pasted the ouput here\n"
   ]
  },
  {
   "cell_type": "markdown",
   "id": "7f7b252d",
   "metadata": {},
   "source": [
    "###### 7. Create a date object of your day of birth."
   ]
  },
  {
   "cell_type": "code",
   "execution_count": 53,
   "id": "260b821e",
   "metadata": {},
   "outputs": [],
   "source": [
    "import datetime"
   ]
  },
  {
   "cell_type": "code",
   "execution_count": 58,
   "id": "5f637b6e",
   "metadata": {},
   "outputs": [],
   "source": [
    "dob=datetime.datetime(1997,2,21)"
   ]
  },
  {
   "cell_type": "code",
   "execution_count": 59,
   "id": "0ebf1722",
   "metadata": {},
   "outputs": [
    {
     "name": "stdout",
     "output_type": "stream",
     "text": [
      "1997-02-21 00:00:00\n"
     ]
    }
   ],
   "source": [
    "print(dob)"
   ]
  },
  {
   "cell_type": "code",
   "execution_count": 60,
   "id": "5ffa0ef3",
   "metadata": {},
   "outputs": [
    {
     "data": {
      "text/plain": [
       "datetime.datetime"
      ]
     },
     "execution_count": 60,
     "metadata": {},
     "output_type": "execute_result"
    }
   ],
   "source": [
    "type(dob)"
   ]
  },
  {
   "cell_type": "markdown",
   "id": "9b1e4e90",
   "metadata": {},
   "source": [
    "###### 8. What day of the week was your day of birth?"
   ]
  },
  {
   "cell_type": "code",
   "execution_count": 64,
   "id": "638cd9b0",
   "metadata": {},
   "outputs": [
    {
     "data": {
      "text/plain": [
       "'Friday'"
      ]
     },
     "execution_count": 64,
     "metadata": {},
     "output_type": "execute_result"
    }
   ],
   "source": [
    "dob.strftime(\"%A\")"
   ]
  },
  {
   "cell_type": "markdown",
   "id": "59acc45f",
   "metadata": {},
   "source": [
    "###### 9. When will you be (or when were you) 10,000 days old?"
   ]
  },
  {
   "cell_type": "code",
   "execution_count": 68,
   "id": "bfdff063",
   "metadata": {},
   "outputs": [
    {
     "name": "stdout",
     "output_type": "stream",
     "text": [
      "1969-10-06 00:00:00\n"
     ]
    }
   ],
   "source": [
    "from datetime import datetime,timedelta\n",
    "future_date=dob-timedelta(10000)\n",
    "print(future_date)"
   ]
  }
 ],
 "metadata": {
  "kernelspec": {
   "display_name": "Python 3 (ipykernel)",
   "language": "python",
   "name": "python3"
  },
  "language_info": {
   "codemirror_mode": {
    "name": "ipython",
    "version": 3
   },
   "file_extension": ".py",
   "mimetype": "text/x-python",
   "name": "python",
   "nbconvert_exporter": "python",
   "pygments_lexer": "ipython3",
   "version": "3.9.12"
  }
 },
 "nbformat": 4,
 "nbformat_minor": 5
}
