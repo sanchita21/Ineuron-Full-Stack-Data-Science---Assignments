{
 "cells": [
  {
   "cell_type": "code",
   "execution_count": 1,
   "id": "a928da61",
   "metadata": {},
   "outputs": [],
   "source": [
    "# 1. What is the relationship between def statements and lambda expressions ?"
   ]
  },
  {
   "cell_type": "code",
   "execution_count": 11,
   "id": "e5d02c98",
   "metadata": {},
   "outputs": [],
   "source": [
    "def cube(y):\n",
    "    y=y*y*y\n",
    "    return y"
   ]
  },
  {
   "cell_type": "code",
   "execution_count": 12,
   "id": "9896d990",
   "metadata": {},
   "outputs": [
    {
     "data": {
      "text/plain": [
       "27"
      ]
     },
     "execution_count": 12,
     "metadata": {},
     "output_type": "execute_result"
    }
   ],
   "source": [
    "cube(3)"
   ]
  },
  {
   "cell_type": "code",
   "execution_count": 19,
   "id": "e7ed275d",
   "metadata": {},
   "outputs": [
    {
     "name": "stdout",
     "output_type": "stream",
     "text": [
      "<function <lambda> at 0x00000255F47CC160>\n"
     ]
    }
   ],
   "source": [
    "g=lambda x:x*x*x\n",
    "print(g)"
   ]
  },
  {
   "cell_type": "code",
   "execution_count": 21,
   "id": "d56e9447",
   "metadata": {},
   "outputs": [
    {
     "data": {
      "text/plain": [
       "27"
      ]
     },
     "execution_count": 21,
     "metadata": {},
     "output_type": "execute_result"
    }
   ],
   "source": [
    "g(3)"
   ]
  },
  {
   "cell_type": "code",
   "execution_count": 23,
   "id": "2c2c116d",
   "metadata": {},
   "outputs": [],
   "source": [
    "# # # # here we ave found out cube of a number using lamdba and def function. in def function we require a return statement\n",
    "# # # wheras in lamda it always contain a expression to be returned\n",
    "# # We can also put a lambda definition anywhere a function is expected, and we don’t have to assign it to a variable at all.\n",
    "# This is the simplicity of lambda functions."
   ]
  },
  {
   "cell_type": "code",
   "execution_count": 24,
   "id": "07e49294",
   "metadata": {},
   "outputs": [],
   "source": [
    "# 2. What is the benefit of lambda?\n"
   ]
  },
  {
   "cell_type": "code",
   "execution_count": 26,
   "id": "7b89342b",
   "metadata": {},
   "outputs": [],
   "source": [
    "# -Lamda is reduces the lines of code we write. \n",
    "# -It is generally used when we need it temporarily with a map or filter function\n",
    "#- Lamda function is called as anonymous function\n"
   ]
  },
  {
   "cell_type": "code",
   "execution_count": 27,
   "id": "3863ec07",
   "metadata": {},
   "outputs": [],
   "source": [
    "# 3. Compare and contrast map, filter, and reduce.\n"
   ]
  },
  {
   "cell_type": "code",
   "execution_count": 1,
   "id": "dbb5ba92",
   "metadata": {},
   "outputs": [],
   "source": [
    "# MAP function\n",
    "## The map() function or map and filter in Python (also called as map filter in Python) is a higher-order function\n"
   ]
  },
  {
   "cell_type": "code",
   "execution_count": 2,
   "id": "58450177",
   "metadata": {},
   "outputs": [],
   "source": [
    "## MAP function\n",
    "def functionl(a):\n",
    "    return a*a"
   ]
  },
  {
   "cell_type": "code",
   "execution_count": 3,
   "id": "4ed00cc2",
   "metadata": {},
   "outputs": [],
   "source": [
    "x=map(functionl,(1,2,3,4))"
   ]
  },
  {
   "cell_type": "code",
   "execution_count": 9,
   "id": "cbcb5c3e",
   "metadata": {},
   "outputs": [
    {
     "name": "stdout",
     "output_type": "stream",
     "text": [
      "{16, 1, 4, 9}\n"
     ]
    }
   ],
   "source": [
    "print(set(x))"
   ]
  },
  {
   "cell_type": "code",
   "execution_count": 10,
   "id": "5d16a9aa",
   "metadata": {},
   "outputs": [],
   "source": [
    "# The filter() function is used to generate an output list of values that return true when the function is called. \n",
    "# It has the following syntax:\n",
    "\n",
    "#SYNTAX: filter (function, iterables)"
   ]
  },
  {
   "cell_type": "code",
   "execution_count": 11,
   "id": "88ec1986",
   "metadata": {},
   "outputs": [],
   "source": [
    "def func(x):\n",
    "    if x>3:\n",
    "        return(x)"
   ]
  },
  {
   "cell_type": "code",
   "execution_count": 13,
   "id": "4e34b229",
   "metadata": {},
   "outputs": [],
   "source": [
    "y=filter(func,(1,2,3,4,5,6))"
   ]
  },
  {
   "cell_type": "code",
   "execution_count": 15,
   "id": "138807a7",
   "metadata": {},
   "outputs": [
    {
     "name": "stdout",
     "output_type": "stream",
     "text": [
      "[4, 5, 6]\n"
     ]
    }
   ],
   "source": [
    "print(list(y))"
   ]
  },
  {
   "cell_type": "code",
   "execution_count": 16,
   "id": "8481625c",
   "metadata": {},
   "outputs": [],
   "source": [
    "# The reduce function applies a provided function to iterables and returns a single value, as the name implies\n",
    "#SYNTAX: reduce(function,iterables)"
   ]
  },
  {
   "cell_type": "code",
   "execution_count": 17,
   "id": "a3b1fa50",
   "metadata": {},
   "outputs": [
    {
     "data": {
      "text/plain": [
       "187"
      ]
     },
     "execution_count": 17,
     "metadata": {},
     "output_type": "execute_result"
    }
   ],
   "source": [
    "from functools import reduce\n",
    "reduce(lambda a,b: a+b,[23,21,45,98])"
   ]
  },
  {
   "cell_type": "code",
   "execution_count": 18,
   "id": "00f3f327",
   "metadata": {},
   "outputs": [],
   "source": [
    "# 4. What are function annotations, and how are they used?"
   ]
  },
  {
   "cell_type": "code",
   "execution_count": 19,
   "id": "cab8a76e",
   "metadata": {},
   "outputs": [],
   "source": [
    "# Function annotation is the standard way to access the metadata with\n",
    "#the arguments and the return value of the function.\n",
    "# These are nothing but some random and optional Python expressions that \n",
    "# get allied to different parts of the function.\n",
    "# They get evaluated only during the compile-time and have no significance\n",
    "#during the run-time of the code.\n",
    "# # They do not have any significance or meaning associated with them \n",
    "#until accessed by some third-party libraries."
   ]
  },
  {
   "cell_type": "code",
   "execution_count": 20,
   "id": "a8dfbf37",
   "metadata": {},
   "outputs": [],
   "source": [
    "#Example\n",
    "def func(a: 'int') -> 'int':\n",
    "    pass"
   ]
  },
  {
   "cell_type": "code",
   "execution_count": 21,
   "id": "ac8ee46c",
   "metadata": {},
   "outputs": [],
   "source": [
    "#5. What are recursive functions, and how are they used?"
   ]
  },
  {
   "cell_type": "code",
   "execution_count": 22,
   "id": "0cc61d73",
   "metadata": {},
   "outputs": [],
   "source": [
    "# we know that a function can call other functions.\n",
    "#It is even possible for the function to call itself. \n",
    "# These types of construct are termed as recursive functions."
   ]
  },
  {
   "cell_type": "code",
   "execution_count": 23,
   "id": "90c00b64",
   "metadata": {},
   "outputs": [],
   "source": [
    "def factorial(x):\n",
    "    \"\"\"This is a recursive function\n",
    "    to find the factorial of an integer\"\"\"\n",
    "\n",
    "    if x == 1:\n",
    "        return 1\n",
    "    else:\n",
    "        return (x * factorial(x-1))"
   ]
  },
  {
   "cell_type": "code",
   "execution_count": 24,
   "id": "9570474f",
   "metadata": {},
   "outputs": [
    {
     "name": "stdout",
     "output_type": "stream",
     "text": [
      "The factorial of 3 is 6\n"
     ]
    }
   ],
   "source": [
    "num=3\n",
    "print(\"The factorial of\", num, \"is\", factorial(num))"
   ]
  },
  {
   "cell_type": "code",
   "execution_count": 25,
   "id": "88636977",
   "metadata": {},
   "outputs": [],
   "source": [
    "#6. What are some general design guidelines for coding functions?"
   ]
  },
  {
   "cell_type": "code",
   "execution_count": 26,
   "id": "81a4a0e3",
   "metadata": {},
   "outputs": [],
   "source": [
    "# Use a tab for indentation. ...\n",
    "# Pythons' default UTF-8 or ASCII encoding. ...\n",
    "# Using docstrings. ...\n",
    "# Don't write more than 79 characters in a line. ...\n",
    "# Using spaces. ...\n",
    "# Naming Variables, Constants, Classes and Functions."
   ]
  },
  {
   "cell_type": "code",
   "execution_count": 27,
   "id": "a811d621",
   "metadata": {},
   "outputs": [],
   "source": [
    "# 7. Name three or more ways that functions can communicate results to a caller."
   ]
  },
  {
   "cell_type": "code",
   "execution_count": null,
   "id": "e5bc2f97",
   "metadata": {},
   "outputs": [],
   "source": [
    "# print\n",
    "# return\n",
    "# # yield"
   ]
  }
 ],
 "metadata": {
  "kernelspec": {
   "display_name": "Python 3 (ipykernel)",
   "language": "python",
   "name": "python3"
  },
  "language_info": {
   "codemirror_mode": {
    "name": "ipython",
    "version": 3
   },
   "file_extension": ".py",
   "mimetype": "text/x-python",
   "name": "python",
   "nbconvert_exporter": "python",
   "pygments_lexer": "ipython3",
   "version": "3.9.12"
  }
 },
 "nbformat": 4,
 "nbformat_minor": 5
}
